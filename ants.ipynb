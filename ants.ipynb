{
  "nbformat": 4,
  "nbformat_minor": 0,
  "metadata": {
    "colab": {
      "name": "ants.ipynb",
      "provenance": []
    },
    "kernelspec": {
      "name": "python3",
      "display_name": "Python 3"
    },
    "language_info": {
      "name": "python"
    }
  },
  "cells": [
    {
      "cell_type": "markdown",
      "metadata": {
        "id": "5fcGudEUw0-Y"
      },
      "source": [
        "## Ant Path Detection\n",
        "\n",
        "The purpose of this tool is to extract the path that a single ant takes in navigating its way across a surface. This program takes in a vido and generates a position file for use in MATLAB. \n",
        "\n",
        "For the path extraction to be successful, there are several important actions that must be taken. \n",
        "1. The video must first be cropped appropriately so that the ant's path does not intersect any object that moved in the video, including people. \n",
        "2. Next, once the extracted path image is generated, the user must erase any other dark content in the image. This may be somewhat difficult and require trial and error. The edited image will be uploaded, and then the points will be generated. \n",
        "3. If there are points away from the ant path, this means that photo must be edited again (to remove the area with the points) and reuploaded. \n",
        "\n",
        "The points are an approximation of the ant path. "
      ]
    },
    {
      "cell_type": "markdown",
      "metadata": {
        "id": "KwK3zHbNvS3E"
      },
      "source": [
        "## Video Instructions\n",
        "\n",
        "Here are the instructions for uploading the video. Note that to upload a file you look at the four vertical icons on the left, click the bottom one several times, and then, from of the three horizontal icons that appear, click the leftmost one with the arrow.\n",
        "\n",
        "1. See where movement intersects the full ant path.\n",
        "2. Cut out up until there is no interfering movement.\n",
        "3. Cut out everything after the ant leaves the board.\n",
        "4. Create a zip file with the video and upload it."
      ]
    },
    {
      "cell_type": "markdown",
      "metadata": {
        "id": "dXzY4KS8mdW0"
      },
      "source": [
        "## Execution Instructions\n",
        "\n",
        "Click each of the black circles with play buttons in them. There are some where you will have to wait for it to complete. "
      ]
    },
    {
      "cell_type": "code",
      "metadata": {
        "id": "k5O58ejvwyZt"
      },
      "source": [
        "# install components not present in Colab by default\n",
        "!apt-get update\n",
        "!apt install imagemagick\n",
        "!apt install ffmpeg\n",
        "!pip3 install scikit-image"
      ],
      "execution_count": null,
      "outputs": []
    },
    {
      "cell_type": "code",
      "metadata": {
        "id": "zuyQiPpNZr-F"
      },
      "source": [
        "# import Python packages \n",
        "import subprocess\n",
        "import os\n",
        "import glob\n",
        "import math \n",
        "import numpy as np\n",
        "from PIL import Image\n",
        "import matplotlib.pyplot as plt\n",
        "from sklearn.cluster import mean_shift\n",
        "import cv2\n",
        "\n",
        "from google.colab import files"
      ],
      "execution_count": 2,
      "outputs": []
    },
    {
      "cell_type": "code",
      "metadata": {
        "id": "jBkcqKNsmHwc"
      },
      "source": [
        "frame_rate = \"25\" #@param [\"10\",\"15\",\"20\", \"25\"]\n",
        "frame_rate = int(frame_rate)"
      ],
      "execution_count": 3,
      "outputs": []
    },
    {
      "cell_type": "code",
      "metadata": {
        "id": "JZ8fCmXgj9mD",
        "colab": {
          "base_uri": "https://localhost:8080/",
          "height": 17
        },
        "outputId": "b2a185da-fc0a-42f2-d644-b65e5db96a2d"
      },
      "source": [
        "# the cropped + zipped video file you uploaded\n",
        "video_file = glob.glob('*.zip')\n",
        "\n",
        "# get the video's name and extension\n",
        "video_name = video_file[0].split('/')[-1].split('.')[0]\n",
        "ext = video_file[0].split('/')[-1].split('.')[1]\n",
        "\n",
        "# unzip the upload zip file\n",
        "subprocess.run(['unzip', video_file[0]])\n",
        "\n",
        "# produce 15 frame image data from the video\n",
        "subprocess.run(['ffmpeg', '-i', video_name+'.'+ext, '-r', f'{frame_rate}', '-q:v', '2', '-f', 'image2', f'./{video_name}_%d.jpeg'])\n",
        "\n",
        "# create img directory again\n",
        "if os.path.isdir(f'new_vi') == True:\n",
        "  subprocess.run(['rm','-rf','new_vi'])\n",
        "subprocess.run(['mkdir','new_vi'])\n",
        "\n",
        "# renumber the images produced\n",
        "imgs = glob.glob(f'*.jpeg')\n",
        "largest_img = max([len(img.split('.')[0].split('_')[1]) for img in imgs])\n",
        "for img in imgs:\n",
        "  img_num = img.split('.')[0].split('_')[1]\n",
        "  zeros = largest_img - len(img_num)\n",
        "  new_num = ''.join(['0']*zeros)+img_num\n",
        "  new_img = img.split('.')[0].split('_')[0]+'_'+str(new_num)+'.jpeg'\n",
        "  subprocess.run(['mv', img, f'./new_vi/{new_img}'])\n",
        "\n",
        "# foresground setup\n",
        "c1 = ['convert', '-density','300']\n",
        "imgs = sorted(glob.glob('./new_vi/*.jpeg'))\n",
        "if len(imgs) % 2 != 0: # make file count even\n",
        "  imgs = imgs[:-1]\n",
        "\n",
        "# create img directory again\n",
        "if os.path.isdir(f'r_imgs') == True:\n",
        "  %rm -rf r_imgs\n",
        "%mkdir r_imgs\n",
        "\n",
        "# step through 2 files at a time, generate the difference\n",
        "for index in range(0, len(imgs), 2):\n",
        "  c2 = ['-compose','difference','-composite','-colorspace','Gray']\n",
        "  name_1st = './r_imgs/'+'result'+imgs[index].split('/')[-1].split('.')[0].split('_')[1]+'.jpeg'\n",
        "  name_2nd = './r_imgs/'+'result'+imgs[index+1].split('/')[-1].split('.')[0].split('_')[1]+'.jpeg'\n",
        "  c2.append(name_1st)\n",
        "  c2.append(name_2nd)\n",
        "  try:\n",
        "    command = c1 + [imgs[index], imgs[index+1]] + c2\n",
        "  except IndexError:\n",
        "    pass\n",
        "  subprocess.run(command)\n",
        "\n",
        "imgs = list(filter(lambda elt: 'result' in elt, sorted(glob.glob('./r_imgs/*.jpeg'))))\n",
        "command_final = ['convert', '-compose','lighten', imgs[0]]\n",
        "remaining_imgs = []\n",
        "file_name = video_name+'.jpeg'\n",
        "for img in imgs[1:]:\n",
        "  remaining_imgs.append(img)\n",
        "  remaining_imgs.append('-composite')\n",
        "remaining_imgs.append(file_name)\n",
        "command = command_final + remaining_imgs\n",
        "subprocess.run(command)\n",
        "\n",
        "# remove lesser image differences\n",
        "img = cv2.imread(file_name)\n",
        "T, threshInv = cv2.threshold(img, 55, 255, cv2.THRESH_BINARY)\n",
        "invIMG = file_name.split('.')[0]+'_inv.jpeg'\n",
        "cv2.imwrite(invIMG, threshInv)\n",
        "\n",
        "# download file\n",
        "files.download(invIMG)"
      ],
      "execution_count": 4,
      "outputs": [
        {
          "output_type": "display_data",
          "data": {
            "application/javascript": [
              "\n",
              "    async function download(id, filename, size) {\n",
              "      if (!google.colab.kernel.accessAllowed) {\n",
              "        return;\n",
              "      }\n",
              "      const div = document.createElement('div');\n",
              "      const label = document.createElement('label');\n",
              "      label.textContent = `Downloading \"${filename}\": `;\n",
              "      div.appendChild(label);\n",
              "      const progress = document.createElement('progress');\n",
              "      progress.max = size;\n",
              "      div.appendChild(progress);\n",
              "      document.body.appendChild(div);\n",
              "\n",
              "      const buffers = [];\n",
              "      let downloaded = 0;\n",
              "\n",
              "      const channel = await google.colab.kernel.comms.open(id);\n",
              "      // Send a message to notify the kernel that we're ready.\n",
              "      channel.send({})\n",
              "\n",
              "      for await (const message of channel.messages) {\n",
              "        // Send a message to notify the kernel that we're ready.\n",
              "        channel.send({})\n",
              "        if (message.buffers) {\n",
              "          for (const buffer of message.buffers) {\n",
              "            buffers.push(buffer);\n",
              "            downloaded += buffer.byteLength;\n",
              "            progress.value = downloaded;\n",
              "          }\n",
              "        }\n",
              "      }\n",
              "      const blob = new Blob(buffers, {type: 'application/binary'});\n",
              "      const a = document.createElement('a');\n",
              "      a.href = window.URL.createObjectURL(blob);\n",
              "      a.download = filename;\n",
              "      div.appendChild(a);\n",
              "      a.click();\n",
              "      div.remove();\n",
              "    }\n",
              "  "
            ],
            "text/plain": [
              "<IPython.core.display.Javascript object>"
            ]
          },
          "metadata": {
            "tags": []
          }
        },
        {
          "output_type": "display_data",
          "data": {
            "application/javascript": [
              "download(\"download_1d770f07-7f04-4475-8077-872ed0925988\", \"c0128_inv.jpeg\", 549917)"
            ],
            "text/plain": [
              "<IPython.core.display.Javascript object>"
            ]
          },
          "metadata": {
            "tags": []
          }
        }
      ]
    },
    {
      "cell_type": "markdown",
      "metadata": {
        "id": "SuuoS6qLsSRd"
      },
      "source": [
        "### Next Step\n",
        "\n",
        "So, the generated file has just been downloaded. Now is it time to remove the other white regions which are not part of the ant path using your photo edit tool of choice. Do this and reupload the file with the SAME name. Remove the shadows from the ant path. \n",
        "\n",
        "For this next part, you will choose a number of points to approximate the ant path. Once you run the code chunk, **observe the outputted image** and see if there are any points flowing in space. If there are such points, go back and edit the photo to remove these, and then reupload the photo, again with the same name. \n"
      ]
    },
    {
      "cell_type": "code",
      "metadata": {
        "id": "mysm3AqZBCQn"
      },
      "source": [
        "#subprocess.run(['convert',f'{invIMG}', '-resize', '75%',  f'{invIMG}'])"
      ],
      "execution_count": null,
      "outputs": []
    },
    {
      "cell_type": "code",
      "metadata": {
        "id": "TY5ojPIvvyl4"
      },
      "source": [
        "img = Image.open(invIMG)\n",
        "\n",
        "arr = np.array(img.convert('L')).T[:,::-1]\n",
        "# get indices where there line is the pixel values is dark, ie <100\n",
        "indices = np.argwhere(arr > 200)"
      ],
      "execution_count": 5,
      "outputs": []
    },
    {
      "cell_type": "code",
      "metadata": {
        "id": "h_7JNSyBG8bp"
      },
      "source": [
        "# you only need to run this once\n",
        "print('INDEX : NUM OF POINTS')\n",
        "for x in np.arange(25,1,-2):\n",
        "    print('{:.2f}: '.format(x), end='')\n",
        "    print(len(mean_shift(indices, bandwidth=x)[0]))"
      ],
      "execution_count": null,
      "outputs": []
    },
    {
      "cell_type": "markdown",
      "metadata": {
        "id": "MJ1yqfxqGfdQ"
      },
      "source": [
        "Play around with editing the points below and seeing how accurate it is or whether there are any defects"
      ]
    },
    {
      "cell_type": "code",
      "metadata": {
        "id": "B9zUkCeDGcCj"
      },
      "source": [
        "index_value = 7 #@param {type:\"slider\", min:1, max:40, step:1}\n",
        "\n",
        "points, labels = mean_shift(indices, bandwidth=index_value)\n",
        "\n",
        "from matplotlib import image\n",
        "data = image.imread(invIMG)\n",
        "\n",
        "# the points will be mirrored, but this is okay\n",
        "plt.imshow(data, origin='lower')\n",
        "plt.scatter(points[:,0], points[:,1])"
      ],
      "execution_count": null,
      "outputs": []
    },
    {
      "cell_type": "code",
      "metadata": {
        "id": "IfoFkDmKIEVJ",
        "colab": {
          "base_uri": "https://localhost:8080/"
        },
        "outputId": "feddc3d1-8122-45a9-dc8d-cb6daf36e42d"
      },
      "source": [
        "# create csv file\n",
        "max_size = max([max(points[:,0]), max(points[:,1])])\n",
        "print(max_size)\n",
        "name = file_name.split('.')[0]\n",
        "spaces = ' '*(len(str(round(max_size)))+1)\n",
        "with open(f'{name}.pos', 'w') as f:\n",
        "  f.write('Object\\n')\n",
        "  f.write(f'X{spaces}Y\\n')\n",
        "  for (x,y) in zip(points[:,0], points[:,1]):\n",
        "    f.write(f'{round(x)}  {round(y)}\\n')\n",
        "files.downloadf'{name}.pos')"
      ],
      "execution_count": 17,
      "outputs": [
        {
          "output_type": "stream",
          "text": [
            "2438.711111111111\n"
          ],
          "name": "stdout"
        }
      ]
    },
    {
      "cell_type": "markdown",
      "metadata": {
        "id": "IKrV-FAQCpm8"
      },
      "source": [
        "### Final Step\n",
        "\n",
        "If you are done with everything and want to upload a new video, click the last play button. Also, you will not need to re-run the first two play buttons of this program when you restart the process."
      ]
    },
    {
      "cell_type": "code",
      "metadata": {
        "id": "Z8kruHGvC6tQ"
      },
      "source": [
        "%rm -r *"
      ],
      "execution_count": null,
      "outputs": []
    }
  ]
}